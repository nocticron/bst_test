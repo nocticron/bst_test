{
 "cells": [
  {
   "cell_type": "markdown",
   "metadata": {},
   "source": [
    "Данный ноутбук посвящён построению предсказательных моделей. Обзор данных - в ноутбуке ```data-preparation```.  Постановка задачи - в файле ```BST_Задача_Моделирование_вкладов.docx```"
   ]
  },
  {
   "cell_type": "code",
   "execution_count": null,
   "metadata": {},
   "outputs": [],
   "source": [
    "import pandas as pd\n",
    "import numpy as np\n",
    "import seaborn as sns\n",
    "%matplotlib inline \n",
    "import matplotlib.pyplot as plt"
   ]
  },
  {
   "cell_type": "code",
   "execution_count": null,
   "metadata": {},
   "outputs": [],
   "source": [
    "from pandas.plotting import register_matplotlib_converters\n",
    "register_matplotlib_converters()"
   ]
  },
  {
   "cell_type": "markdown",
   "metadata": {},
   "source": [
    "- Данные для обучения: наблюдения признаков в 2011-2017г. включительно (```df```).\n",
    "- Данные для проверки: наблюдения признаков за 2018г(```df_m-df```)."
   ]
  },
  {
   "cell_type": "code",
   "execution_count": null,
   "metadata": {},
   "outputs": [],
   "source": [
    "df = pd.read_csv('../data/BST_DataSet.csv', encoding='utf-8')"
   ]
  },
  {
   "cell_type": "code",
   "execution_count": null,
   "metadata": {},
   "outputs": [],
   "source": [
    "df_m = pd.read_csv('../data/BST_DataSet+mine1.csv', encoding='utf-8')"
   ]
  },
  {
   "cell_type": "code",
   "execution_count": null,
   "metadata": {},
   "outputs": [],
   "source": [
    "df_m.shape"
   ]
  },
  {
   "cell_type": "markdown",
   "metadata": {},
   "source": [
    "Настроим индекс по датам наблюдения"
   ]
  },
  {
   "cell_type": "code",
   "execution_count": null,
   "metadata": {},
   "outputs": [],
   "source": [
    "df.date = pd.to_datetime(df.date, format='%Y-%m-%d')\n",
    "df.index = df.date\n",
    "del(df['date'])"
   ]
  },
  {
   "cell_type": "code",
   "execution_count": null,
   "metadata": {},
   "outputs": [],
   "source": [
    "df_m.date = pd.to_datetime(df_m.date, format='%m/%d/%Y')\n",
    "df_m.index = df_m.date\n",
    "del(df_m['date'])"
   ]
  },
  {
   "cell_type": "code",
   "execution_count": null,
   "metadata": {},
   "outputs": [],
   "source": [
    "df_m.shape"
   ]
  },
  {
   "cell_type": "markdown",
   "metadata": {},
   "source": [
    "Посмотрим на данные в нормированном виде. По некоторым наблюдениям отличимы тренды, периоды (об этом позже),  заметен аномальный интервал в окрестности января 2015г.:"
   ]
  },
  {
   "cell_type": "code",
   "execution_count": null,
   "metadata": {},
   "outputs": [],
   "source": [
    "def normalizeData(df, plot=False):\n",
    "    df_n = df.copy()\n",
    "    for i in df_n.columns:\n",
    "        m = max(df_n[i])\n",
    "        df_n[i] = df_n[i].map(lambda x: x/m)\n",
    "        if plot:\n",
    "            plt.plot(df_n[i],label=i)\n",
    "    return df_n"
   ]
  },
  {
   "cell_type": "code",
   "execution_count": null,
   "metadata": {},
   "outputs": [],
   "source": [
    "## plot normalized column values\n",
    "plt.figure(figsize=(12,5))\n",
    "df_n = normalizeData(df, plot=True)\n"
   ]
  },
  {
   "cell_type": "markdown",
   "metadata": {},
   "source": [
    "Обратим внимание, что значения целевой переменной имеют сезонный характер. Построим ежегодные графики:"
   ]
  },
  {
   "cell_type": "code",
   "execution_count": null,
   "metadata": {},
   "outputs": [],
   "source": [
    "## plot year-long stats\n",
    "pv = pd.pivot_table(df, index=df.index.month, columns=df.index.year,values=['delta'])\n",
    "pv.plot(figsize=(14,5), title='Ежегодные графики:')"
   ]
  },
  {
   "cell_type": "markdown",
   "metadata": {},
   "source": [
    "Построим матрицу попарных корреляций признаков, поскольку мы имеем подозрение на рыночную взаимосвязь некоторых из них. В частности, подозрение падает на пары ```денежная масса-зарплата```, ```инфляция-зарплата``` (в нашем случае ```ИПЦ``` - показатель инфляции).\n",
    "\n",
    "Предположим интуитивно, что при повышении объёма денежной массы (например, при эмиссии денег) деньги при прочих равных обесцениваются, товары и услуги становятся дороже в денежном выражении, а соответственно, растут и зарплаты, складывающиеся из платы за эти услуги.  "
   ]
  },
  {
   "cell_type": "markdown",
   "metadata": {},
   "source": [
    "На \"карте температур\" также заметно влияние цены на нефть и курса доллара "
   ]
  },
  {
   "cell_type": "code",
   "execution_count": null,
   "metadata": {},
   "outputs": [],
   "source": [
    "sns.heatmap(df.corr())"
   ]
  },
  {
   "cell_type": "code",
   "execution_count": null,
   "metadata": {},
   "outputs": [],
   "source": [
    "df.corr()"
   ]
  },
  {
   "cell_type": "markdown",
   "metadata": {},
   "source": [
    "Построим диаграммы рассеяния признаков"
   ]
  },
  {
   "cell_type": "code",
   "execution_count": null,
   "metadata": {},
   "outputs": [],
   "source": [
    "sns.pairplot(data=df)"
   ]
  },
  {
   "cell_type": "markdown",
   "metadata": {},
   "source": [
    "Выделим те признаки, на которые у нас есть подозрение в линейной зависимости. Некоторые пары имеют около-кубическую зависимость на вид."
   ]
  },
  {
   "cell_type": "code",
   "execution_count": null,
   "metadata": {},
   "outputs": [],
   "source": [
    "sns.pairplot(data=df[['avg_payment', 'buyer_prices_index','m0', 'm2']])"
   ]
  },
  {
   "cell_type": "markdown",
   "metadata": {},
   "source": [
    "Так как условие задачи требует от нас интерпретируемости результатов, и количество наблюдений относительно невелико, то попробуем использовать в качестве предсказательной модели линейную регрессию."
   ]
  },
  {
   "cell_type": "markdown",
   "metadata": {},
   "source": [
    "Попробуем вначале наивный подход \"в лоб\", взяв данные в практически неизменном виде, пропустив проверку необходимых условий для работы линейной регрессии."
   ]
  },
  {
   "cell_type": "markdown",
   "metadata": {},
   "source": [
    "### Test-train separation"
   ]
  },
  {
   "cell_type": "code",
   "execution_count": null,
   "metadata": {},
   "outputs": [],
   "source": [
    "#test size is in months specially for our task\n",
    "def prepareData(df, target_col='y',  test_index=0):\n",
    "    df1 = df.copy()\n",
    "    #if we have separate test-train files/datasets, use this\n",
    "    if test_index==0:\n",
    "        X, y = df1.drop([target_col], axis=1), df1[target_col]\n",
    "        return X, y\n",
    "    \n",
    "    X_train = df1[:test_index].drop([target_col], axis=1)\n",
    "    y_train = df1[:test_index][target_col]\n",
    "    X_test = df1[test_index:].drop([target_col], axis=1)\n",
    "    y_test = df1[test_index:][target_col]\n",
    "    \n",
    "    del(df1)\n",
    "    return X_train, X_test, y_train, y_test"
   ]
  },
  {
   "cell_type": "markdown",
   "metadata": {},
   "source": [
    "### Modelling: Linear"
   ]
  },
  {
   "cell_type": "code",
   "execution_count": null,
   "metadata": {},
   "outputs": [],
   "source": [
    "from sklearn.linear_model import LinearRegression, Lasso\n",
    "from sklearn.metrics import mean_absolute_error, mean_squared_error"
   ]
  },
  {
   "cell_type": "markdown",
   "metadata": {},
   "source": [
    "Проверим нашу модель на предоставленных заказчиком данных, построив для примера прогноз в 2017г. (соответственно, последние 12 месяцев исходного датасета: ```test_index=-12```)"
   ]
  },
  {
   "cell_type": "code",
   "execution_count": null,
   "metadata": {},
   "outputs": [],
   "source": [
    "X_train_2017, X_test_2017, y_train_2017, y_test_2017 = prepareData(df, target_col='delta', test_index=-12)"
   ]
  },
  {
   "cell_type": "code",
   "execution_count": null,
   "metadata": {},
   "outputs": [],
   "source": [
    "def predict(X_train, X_test, y_train, y_test, plot=True):\n",
    "    lr = LinearRegression()\n",
    "    lr.fit(X_train, y_train)\n",
    "    prediction = lr.predict(X_test)\n",
    "    if plot:\n",
    "        plt.figure(figsize=(15, 7))\n",
    "        plt.plot(prediction, \"r\", label=\"prediction\")\n",
    "        plt.plot(y_test.values, label=\"actual\")\n",
    "        plt.legend(loc=\"best\")\n",
    "        plt.title(\"Linear regression\\n Mean absolute error {}\".format(round(mean_absolute_error(prediction, y_test))))\n",
    "        plt.grid(True);\n",
    "    return lr, prediction"
   ]
  },
  {
   "cell_type": "code",
   "execution_count": null,
   "metadata": {},
   "outputs": [],
   "source": [
    "predict(X_train_2017, X_test_2017, y_train_2017, y_test_2017)"
   ]
  },
  {
   "cell_type": "markdown",
   "metadata": {},
   "source": [
    "Видим, что выбранная предсказательная модель вполне годится для применения в первом приближении."
   ]
  },
  {
   "cell_type": "markdown",
   "metadata": {},
   "source": [
    "Обратимся к данным, включающим 2018 год:"
   ]
  },
  {
   "cell_type": "code",
   "execution_count": null,
   "metadata": {},
   "outputs": [],
   "source": [
    "X_train, X_test, y_train, y_test = prepareData(normalizeData(df_m), target_col='delta', test_index=-12)"
   ]
  },
  {
   "cell_type": "code",
   "execution_count": null,
   "metadata": {},
   "outputs": [],
   "source": [
    "lr1, prediction1 = predict(X_train, X_test, y_train, y_test)"
   ]
  },
  {
   "cell_type": "markdown",
   "metadata": {},
   "source": [
    "Как мы видим, при прогнозировании 2018г. на данных из открытых источников, которые \"не бьются\" с исходными (см. ноутбук ```data-preparation.ipynb```), получаем достаточно грубые результаты. \"Garbage in - garbage out.\""
   ]
  },
  {
   "cell_type": "markdown",
   "metadata": {},
   "source": [
    "Посмотрим, какие параметры имеют наибольшее влияние на значение целевой переменной."
   ]
  },
  {
   "cell_type": "code",
   "execution_count": null,
   "metadata": {},
   "outputs": [],
   "source": [
    "plt.plot(lr1.coef_)"
   ]
  },
  {
   "cell_type": "markdown",
   "metadata": {},
   "source": [
    "Попробуем изменить поведение модели, избавившись от какого-то числа несущественных (или линейно зависимых друг от друга) признаков. Для этого воспользуемся методом главных компонент."
   ]
  },
  {
   "cell_type": "code",
   "execution_count": null,
   "metadata": {},
   "outputs": [],
   "source": [
    "from sklearn.decomposition import PCA"
   ]
  },
  {
   "cell_type": "code",
   "execution_count": null,
   "metadata": {},
   "outputs": [],
   "source": [
    "def reduce(df, components=5):\n",
    "    pca = PCA(components)\n",
    "    XPCAreduced = pca.fit_transform(df)\n",
    "    df_reduced = pd.DataFrame(XPCAreduced)\n",
    "    return df_reduced"
   ]
  },
  {
   "cell_type": "code",
   "execution_count": null,
   "metadata": {},
   "outputs": [],
   "source": [
    "df_t = normalizeData(df_m)\n",
    "df_t = df_t.drop(['delta'],axis=1)\n",
    "df_reduced = reduce(df_t, 6)\n",
    "del(df_t)"
   ]
  },
  {
   "cell_type": "code",
   "execution_count": null,
   "metadata": {},
   "outputs": [],
   "source": [
    "#sns.pairplot(df_reduced)"
   ]
  },
  {
   "cell_type": "code",
   "execution_count": null,
   "metadata": {},
   "outputs": [],
   "source": [
    "for i in df_reduced.columns:\n",
    "    print(np.corrcoef(df_m['delta'],df_reduced[i])[0][1])"
   ]
  },
  {
   "cell_type": "code",
   "execution_count": null,
   "metadata": {},
   "outputs": [],
   "source": [
    "df_n = normalizeData(df_m, plot=False)"
   ]
  },
  {
   "cell_type": "code",
   "execution_count": null,
   "metadata": {},
   "outputs": [],
   "source": [
    "X_train = df_reduced[:-12]\n",
    "X_test = df_reduced[-12:]\n",
    "y_train = df_n['delta'][:-12]\n",
    "y_test = df_n['delta'][-12:]"
   ]
  },
  {
   "cell_type": "code",
   "execution_count": null,
   "metadata": {},
   "outputs": [],
   "source": [
    "lr2, prediction2 = predict(X_train, X_test, y_train, y_test)"
   ]
  },
  {
   "cell_type": "markdown",
   "metadata": {},
   "source": [
    "Для временных рядов полезны некоторые эвристики, например добавление признаков 'значение вчера', 'значение год назад'. Добавим их вместе с номером текущего месяца, года."
   ]
  },
  {
   "cell_type": "code",
   "execution_count": null,
   "metadata": {},
   "outputs": [],
   "source": [
    "def addHeuristics(df, avg=False, previous_year=False, previous_month=False):\n",
    "    df1 = df.copy()\n",
    "    df1['month'] = df1.index.month\n",
    "    df1['year'] = df1.index.year\n",
    "    if previous_year:\n",
    "        df1['previous_year_delta'] = df1['delta'].shift(12)\n",
    "        df1 = df1[12:]\n",
    "    if previous_month:\n",
    "        df1['previous_month_delta'] = df1['delta'].shift(1)\n",
    "        df1 = df1[1:]\n",
    "    return df1"
   ]
  },
  {
   "cell_type": "code",
   "execution_count": null,
   "metadata": {},
   "outputs": [],
   "source": [
    "df_h = addHeuristics(df_m, previous_year=True)"
   ]
  },
  {
   "cell_type": "code",
   "execution_count": null,
   "metadata": {},
   "outputs": [],
   "source": [
    "df_h.shape"
   ]
  },
  {
   "cell_type": "code",
   "execution_count": null,
   "metadata": {},
   "outputs": [],
   "source": [
    "X_train, X_test, y_train, y_test = prepareData(addHeuristics(normalizeData(df_m)), target_col='delta', test_index=-12)"
   ]
  },
  {
   "cell_type": "code",
   "execution_count": null,
   "metadata": {},
   "outputs": [],
   "source": [
    "lr3, prediction3 = predict(X_train, X_test, y_train, y_test, plot=False)"
   ]
  },
  {
   "cell_type": "markdown",
   "metadata": {},
   "source": [
    "Посмотрим на коэффициенты, получившиеся при работе регрессии."
   ]
  },
  {
   "cell_type": "code",
   "execution_count": null,
   "metadata": {},
   "outputs": [],
   "source": [
    "lr3.coef_"
   ]
  },
  {
   "cell_type": "code",
   "execution_count": null,
   "metadata": {},
   "outputs": [],
   "source": [
    "plt.plot(lr3.coef_)"
   ]
  },
  {
   "cell_type": "markdown",
   "metadata": {},
   "source": [
    "Заметим, что признаки линейной регрессии идут в том же порядке, что и колонки в датасете. Взглянем на них:"
   ]
  },
  {
   "cell_type": "code",
   "execution_count": null,
   "metadata": {},
   "outputs": [],
   "source": [
    "addHeuristics(df_m).columns"
   ]
  },
  {
   "cell_type": "markdown",
   "metadata": {},
   "source": [
    "Как мы можем видеть из результатов, важен седьмой, восьмой, десятый признак (на графике их номер на единицу меньше). Таким образом, на прирост денег на рублёвых депозитах, согласно нашей модели, влияют соответственно показатели М2, М0, размер зарплат, курс доллара и далее в порядке снижения \"амплитуды\"."
   ]
  },
  {
   "cell_type": "markdown",
   "metadata": {},
   "source": [
    "Построим графики прогноза с учётом эвристик."
   ]
  },
  {
   "cell_type": "markdown",
   "metadata": {},
   "source": [
    "- С учётом прошлогоднего значения:"
   ]
  },
  {
   "cell_type": "code",
   "execution_count": null,
   "metadata": {},
   "outputs": [],
   "source": [
    "X_train, X_test, y_train, y_test = prepareData(normalizeData(addHeuristics(df_m, previous_year=True)), target_col='delta', test_index=-12)"
   ]
  },
  {
   "cell_type": "code",
   "execution_count": null,
   "metadata": {},
   "outputs": [],
   "source": [
    "lr3, prediction3 = predict(X_train, X_test, y_train, y_test)"
   ]
  },
  {
   "cell_type": "markdown",
   "metadata": {},
   "source": [
    "- С учётом значения в прошлом году:"
   ]
  },
  {
   "cell_type": "code",
   "execution_count": null,
   "metadata": {},
   "outputs": [],
   "source": [
    "X_train, X_test, y_train, y_test = prepareData(normalizeData(addHeuristics(df_m, previous_year=True, previous_month=True)), target_col='delta', test_index=-12)"
   ]
  },
  {
   "cell_type": "code",
   "execution_count": null,
   "metadata": {},
   "outputs": [],
   "source": [
    "lr4, prediction4 = predict(X_train, X_test, y_train, y_test)"
   ]
  },
  {
   "cell_type": "markdown",
   "metadata": {},
   "source": [
    "Видим, что несмотря на потерю 13 строк наблюдений из 84, добавление новых признаков положительно влияет на поведение модели."
   ]
  },
  {
   "cell_type": "code",
   "execution_count": null,
   "metadata": {},
   "outputs": [],
   "source": [
    "df_n = normalizeData(df_m, plot=False)"
   ]
  },
  {
   "cell_type": "code",
   "execution_count": null,
   "metadata": {},
   "outputs": [],
   "source": [
    "df_t = addHeuristics(df_m, previous_year=True, previous_month=True)\n",
    "df_t = df_t.drop(['delta'],axis=1)\n",
    "df_reduced = reduce(df_t, 11)\n",
    "del(df_t)"
   ]
  },
  {
   "cell_type": "code",
   "execution_count": null,
   "metadata": {},
   "outputs": [],
   "source": [
    "X_train = df_reduced[:-12]\n",
    "X_test = df_reduced[-12:]\n",
    "y_train = df_n['delta'][13:-12]\n",
    "y_test = df_n['delta'][-12:]"
   ]
  },
  {
   "cell_type": "code",
   "execution_count": null,
   "metadata": {},
   "outputs": [],
   "source": [
    "lr5, prediction5 = predict(X_train, X_test, y_train, y_test)"
   ]
  },
  {
   "cell_type": "markdown",
   "metadata": {},
   "source": [
    "### Conclusion"
   ]
  },
  {
   "cell_type": "markdown",
   "metadata": {},
   "source": [
    "Вывод: выбранная модель линейной регрессии оказалась вполне применима в целях прогнозирования прироста/убывания объёма рублёвых депозитов. Для повышения точности результатов можно:\n",
    "- повысить число наблюдений, возможно, учесть зарубежный опыт.\n",
    "- добавить новые признаки, не предоставленные заказчиком: например, можно предположить, что объём вкладов зависит от числа банков, работающих с физическими лицами. Такие данные, с разбивкой числа банков по их капиталу, предоставляет ЦБ. Например, нами не было изучено, как влияет поведение целевой величины при ликвидации банков, при действии АСВ и проч. Также не были учтены демографические данные и действие внешнеполитических факторов.\n",
    "- использовать более сложные, возможно, не столь понятные/интерпретируемые модели."
   ]
  },
  {
   "cell_type": "code",
   "execution_count": null,
   "metadata": {},
   "outputs": [],
   "source": []
  }
 ],
 "metadata": {
  "kernelspec": {
   "display_name": "Python 3",
   "language": "python",
   "name": "python3"
  },
  "language_info": {
   "codemirror_mode": {
    "name": "ipython",
    "version": 3
   },
   "file_extension": ".py",
   "mimetype": "text/x-python",
   "name": "python",
   "nbconvert_exporter": "python",
   "pygments_lexer": "ipython3",
   "version": "3.6.7"
  }
 },
 "nbformat": 4,
 "nbformat_minor": 2
}
